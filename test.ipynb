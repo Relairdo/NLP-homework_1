{
 "cells": [
  {
   "cell_type": "code",
   "execution_count": 1,
   "source": [
    "import pandas as pd\r\n",
    "import numpy as np\r\n",
    "from features import *\r\n",
    "from sklearn.feature_extraction.text import CountVectorizer"
   ],
   "outputs": [],
   "metadata": {}
  },
  {
   "cell_type": "code",
   "execution_count": 2,
   "source": [
    "df_train = pd.read_pickle(r'df_train.pkl')\r\n",
    "df_test = pd.read_pickle(r'df_test.pkl')\r\n",
    "with open(r'data\\users.json',  encoding='utf-8') as f:\r\n",
    "        users = json.load(f)\r\n",
    "\r\n",
    "# users_list = []\r\n",
    "# for name, dic in users.items():\r\n",
    "#         dic[\"name\"] = name\r\n",
    "#         users_list.append(dic)\r\n",
    "# df_user = pd.DataFrame(users_list)\r\n",
    "    "
   ],
   "outputs": [],
   "metadata": {}
  },
  {
   "cell_type": "code",
   "execution_count": null,
   "source": [
    "df_user.columns = df_user.columns.map(lambda x: 'Pro_' + str(x))\r\n",
    "new_test = pd.merge(df_test, df_user, how=\"left\", left_on=\"pro_debater\", right_on=\"Pro_name\")\r\n",
    "df_user.columns = df_user.columns.map(lambda x: 'Con_' + str(x)[4:])\r\n",
    "new_test = pd.merge(new_test, df_user, how=\"left\", left_on=\"con_debater\", right_on=\"Con_name\").drop([\"Pro_name\", \"Con_name\"], axis=1)\r\n",
    "df_user.columns = df_user.columns.map(lambda x: str(x)[4:])"
   ],
   "outputs": [],
   "metadata": {}
  },
  {
   "cell_type": "code",
   "execution_count": null,
   "source": [
    "df_train, df_test = get_dataframe(r'data/train.jsonl', r'data/val.jsonl')\r\n",
    "update_text(df_train, df_test)\r\n",
    "update_ngrams(df_train, df_test)\r\n",
    "update_lexicon(df_train, df_test, r'lexica/')\r\n",
    "upadate_linguistic(df_train, df_test)\r\n",
    "update_user(df_train, df_test, r'data/users.json')"
   ],
   "outputs": [],
   "metadata": {}
  },
  {
   "cell_type": "code",
   "execution_count": null,
   "source": [
    "df_train.columns"
   ],
   "outputs": [],
   "metadata": {}
  },
  {
   "cell_type": "code",
   "execution_count": null,
   "source": [
    "x_train, x_test = get_features(df_train, df_test, model='Ling')"
   ],
   "outputs": [],
   "metadata": {}
  },
  {
   "cell_type": "code",
   "execution_count": null,
   "source": [
    "x_test"
   ],
   "outputs": [],
   "metadata": {}
  },
  {
   "cell_type": "code",
   "execution_count": null,
   "source": [
    "x_train, x_test = coo_matrix(np.zeros((df_train.shape[0], 1))), coo_matrix(np.zeros((df_test.shape[0], 1)))"
   ],
   "outputs": [],
   "metadata": {}
  },
  {
   "cell_type": "code",
   "execution_count": null,
   "source": [
    "user_feature_list = ['education']"
   ],
   "outputs": [],
   "metadata": {}
  },
  {
   "cell_type": "code",
   "execution_count": 59,
   "source": [
    "user_feature_list = ['education']\r\n",
    "for user_feature in user_feature_list:\r\n",
    "        feature_vectorizer = CountVectorizer(token_pattern=\"\")\r\n",
    "        feature_vectorizer.fit([ user[user_feature] for _, user in users.items()])\r\n",
    "        for df in [df_train, df_test]:\r\n",
    "            Pro_feature = feature_vectorizer.transform([users[person][user_feature] for person in df[\"pro_debater\"].tolist()])\r\n",
    "            Con_feature = feature_vectorizer.transform([users[person][user_feature] for person in df[\"con_debater\"].tolist()])\r\n",
    "            break\r\n",
    "            # df['Pro_'+user_feature] = [Pro_feature[i] for i in range(Pro_feature.shape[0])]\r\n",
    "            # df['Con_'+user_feature] = [Con_feature[i] for i in range(Con_feature.shape[0])]"
   ],
   "outputs": [],
   "metadata": {}
  },
  {
   "cell_type": "code",
   "execution_count": 6,
   "source": [
    "df['Pro_'+user_feature] = [Pro_feature[i] for i in range(Pro_feature.shape[0])]"
   ],
   "outputs": [],
   "metadata": {}
  },
  {
   "cell_type": "code",
   "execution_count": 12,
   "source": [
    "df['Pro_'+user_feature][0]\r\n"
   ],
   "outputs": [
    {
     "output_type": "execute_result",
     "data": {
      "text/plain": [
       "<1x8 sparse matrix of type '<class 'numpy.int64'>'\n",
       "\twith 0 stored elements in Compressed Sparse Row format>"
      ]
     },
     "metadata": {},
     "execution_count": 12
    }
   ],
   "metadata": {}
  }
 ],
 "metadata": {
  "kernelspec": {
   "name": "python3",
   "display_name": "Python 3.6.13 64-bit ('NLP-hw1': conda)"
  },
  "language_info": {
   "codemirror_mode": {
    "name": "ipython",
    "version": 3
   },
   "file_extension": ".py",
   "mimetype": "text/x-python",
   "name": "python",
   "nbconvert_exporter": "python",
   "pygments_lexer": "ipython3",
   "version": "3.6.13"
  },
  "interpreter": {
   "hash": "71e2e5b76bcbb14e570851f735b138803c85a1bc8fc18edcb67e91ecf28dd39d"
  }
 },
 "nbformat": 4,
 "nbformat_minor": 5
}