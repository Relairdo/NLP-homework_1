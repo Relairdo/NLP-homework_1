{
 "cells": [
  {
   "cell_type": "code",
   "execution_count": 2,
   "source": [
    "import pandas as pd\r\n",
    "import numpy as np\r\n",
    "from features import *\r\n",
    "from sklearn.feature_extraction.text import CountVectorizer"
   ],
   "outputs": [],
   "metadata": {}
  },
  {
   "cell_type": "code",
   "execution_count": 3,
   "source": [
    "df_train = pd.read_pickle(r'df_train.pkl')\r\n",
    "df_test = pd.read_pickle(r'df_test.pkl')\r\n"
   ],
   "outputs": [],
   "metadata": {}
  },
  {
   "cell_type": "code",
   "execution_count": null,
   "source": [
    "list(users.values())[0]"
   ],
   "outputs": [],
   "metadata": {}
  },
  {
   "cell_type": "code",
   "execution_count": null,
   "source": [
    "set([p[\"birthday\"] for p in users.values()])"
   ],
   "outputs": [],
   "metadata": {}
  },
  {
   "cell_type": "code",
   "execution_count": 2,
   "source": [
    "df_train, df_test = get_dataframe(r'data/train.jsonl', r'data/val.jsonl')\r\n",
    "update_text(df_train, df_test)\r\n",
    "update_ngrams(df_train, df_test)\r\n",
    "update_lexicon(df_train, df_test, r'lexica/')\r\n",
    "upadate_linguistic(df_train, df_test)\r\n",
    "update_user(df_train, df_test, r'data/users.json')"
   ],
   "outputs": [
    {
     "output_type": "stream",
     "name": "stderr",
     "text": [
      "c:\\Users\\fff32\\Desktop\\Natural Language Processing\\Homework_1\\code\\features.py:65: ParserWarning: Falling back to the 'python' engine because the 'c' engine does not support regex separators (separators > 1 char and different from '\\s+' are interpreted as regex); you can avoid this warning by specifying engine='python'.\n",
      "  df_CL = pd.read_csv(CL_csv, sep=\"_|,\", names=['word', 'part', 'sentiment'])\n"
     ]
    }
   ],
   "metadata": {}
  },
  {
   "cell_type": "code",
   "execution_count": 3,
   "source": [
    "df_train.columns"
   ],
   "outputs": [
    {
     "output_type": "execute_result",
     "data": {
      "text/plain": [
       "Index(['id', 'category', 'title', 'rounds', 'date', 'pro_debater',\n",
       "       'con_debater', 'voters', 'winner', 'Pro_text', 'Con_text', 'Pro_ngram',\n",
       "       'Con_ngram', 'Pro_positive', 'Con_positive', 'Pro_neutral',\n",
       "       'Con_neutral', 'Pro_negative', 'Con_negative', 'Pro_a-score',\n",
       "       'Pro_d-score', 'Pro_v-score', 'Con_a-score', 'Con_d-score',\n",
       "       'Con_v-score', 'Pro_Length', 'Con_Length', 'Pro_R2O', 'Con_R2O',\n",
       "       'Pro_Personal_pronouns', 'Con_Personal_pronouns', 'Pro_Modals',\n",
       "       'Con_Modals', 'Pro_Links', 'Con_Links', 'Pro_Questions',\n",
       "       'Con_Questions', 'Pro_education', 'Con_education', 'Pro_ethnicity',\n",
       "       'Con_ethnicity', 'Pro_gender', 'Con_gender', 'Pro_income', 'Con_income',\n",
       "       'Pro_joined', 'Con_joined', 'Pro_party', 'Con_party',\n",
       "       'Pro_political_ideology', 'Con_political_ideology', 'Pro_relationship',\n",
       "       'Con_relationship', 'Pro_religious_ideology', 'Con_religious_ideology'],\n",
       "      dtype='object')"
      ]
     },
     "metadata": {},
     "execution_count": 3
    }
   ],
   "metadata": {}
  },
  {
   "cell_type": "code",
   "execution_count": 4,
   "source": [
    "x_train, x_test = get_features(df_train, df_test, model='Ling')"
   ],
   "outputs": [
    {
     "output_type": "stream",
     "name": "stdout",
     "text": [
      "Linguistic features: Length R2O Personal_pronouns Modals Links Questions \n"
     ]
    }
   ],
   "metadata": {}
  },
  {
   "cell_type": "code",
   "execution_count": 5,
   "source": [
    "x_test"
   ],
   "outputs": [
    {
     "output_type": "execute_result",
     "data": {
      "text/plain": [
       "<399x12 sparse matrix of type '<class 'numpy.float64'>'\n",
       "\twith 3806 stored elements in COOrdinate format>"
      ]
     },
     "metadata": {},
     "execution_count": 5
    }
   ],
   "metadata": {}
  },
  {
   "cell_type": "code",
   "execution_count": 12,
   "source": [
    "x_train, x_test = coo_matrix(np.zeros((df_train.shape[0], 1))), coo_matrix(np.zeros((df_test.shape[0], 1)))"
   ],
   "outputs": [],
   "metadata": {}
  },
  {
   "cell_type": "code",
   "execution_count": 13,
   "source": [
    "x_train"
   ],
   "outputs": [
    {
     "output_type": "execute_result",
     "data": {
      "text/plain": [
       "<1592x1 sparse matrix of type '<class 'numpy.float64'>'\n",
       "\twith 0 stored elements in COOrdinate format>"
      ]
     },
     "metadata": {},
     "execution_count": 13
    }
   ],
   "metadata": {}
  },
  {
   "cell_type": "code",
   "execution_count": null,
   "source": [],
   "outputs": [],
   "metadata": {}
  }
 ],
 "metadata": {
  "kernelspec": {
   "name": "python3",
   "display_name": "Python 3.6.13 64-bit ('NLP-hw1': conda)"
  },
  "language_info": {
   "codemirror_mode": {
    "name": "ipython",
    "version": 3
   },
   "file_extension": ".py",
   "mimetype": "text/x-python",
   "name": "python",
   "nbconvert_exporter": "python",
   "pygments_lexer": "ipython3",
   "version": "3.6.13"
  },
  "interpreter": {
   "hash": "71e2e5b76bcbb14e570851f735b138803c85a1bc8fc18edcb67e91ecf28dd39d"
  }
 },
 "nbformat": 4,
 "nbformat_minor": 5
}