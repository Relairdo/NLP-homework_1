{
 "cells": [
  {
   "cell_type": "code",
   "execution_count": 1,
   "source": [
    "import pandas as pd\r\n",
    "import numpy as np\r\n",
    "from features import *\r\n",
    "from sklearn.feature_extraction.text import CountVectorizer\r\n",
    "from sklearn.preprocessing import OneHotEncoder, LabelEncoder\r\n",
    "from pandas.api.types import CategoricalDtype "
   ],
   "outputs": [],
   "metadata": {}
  },
  {
   "cell_type": "code",
   "execution_count": 7,
   "source": [
    "df_train, df_test = get_dataframe(r'data/train.jsonl', r'data/val.jsonl')\r\n",
    "with open(r'data\\users.json',  encoding='utf-8') as f:\r\n",
    "        users = json.load(f)\r\n",
    "\r\n",
    "user_list = []\r\n",
    "for name, dic in users.items():\r\n",
    "        dic[\"name\"] = name\r\n",
    "        user_list.append(dic)\r\n",
    "df_user = pd.DataFrame(user_list).drop(['big_issues_dict','birthday','opinion_arguments','opinion_questions','poll_topics','poll_votes','friends'], axis=1)\r\n",
    "\r\n",
    "df_user.columns = df_user.columns.map(lambda x: 'Pro_' + str(x))\r\n",
    "df_train = pd.merge(df_train, df_user, how=\"left\", left_on=\"pro_debater\", right_on=\"Pro_name\")\r\n",
    "df_test = pd.merge(df_test, df_user, how=\"left\", left_on=\"pro_debater\", right_on=\"Pro_name\")\r\n",
    "df_user.columns = df_user.columns.map(lambda x: 'Con_' + str(x)[4:])\r\n",
    "df_train = pd.merge(df_train, df_user, how=\"left\", left_on=\"con_debater\", right_on=\"Con_name\").drop([\"Pro_name\", \"Con_name\"], axis=1)\r\n",
    "df_test = pd.merge(df_test, df_user, how=\"left\", left_on=\"con_debater\", right_on=\"Con_name\").drop([\"Pro_name\", \"Con_name\"], axis=1)\r\n",
    "df_user.columns = df_user.columns.map(lambda x: str(x)[4:])"
   ],
   "outputs": [],
   "metadata": {}
  },
  {
   "cell_type": "code",
   "execution_count": 8,
   "source": [
    "df_test.columns"
   ],
   "outputs": [
    {
     "output_type": "execute_result",
     "data": {
      "text/plain": [
       "Index(['id', 'category', 'title', 'rounds', 'date', 'pro_debater',\n",
       "       'con_debater', 'voters', 'winner', 'Pro_education', 'Pro_ethnicity',\n",
       "       'Pro_gender', 'Pro_income', 'Pro_joined', 'Pro_party',\n",
       "       'Pro_political_ideology', 'Pro_relationship', 'Pro_religious_ideology',\n",
       "       'Con_education', 'Con_ethnicity', 'Con_gender', 'Con_income',\n",
       "       'Con_joined', 'Con_party', 'Con_political_ideology', 'Con_relationship',\n",
       "       'Con_religious_ideology'],\n",
       "      dtype='object')"
      ]
     },
     "metadata": {},
     "execution_count": 8
    }
   ],
   "metadata": {}
  },
  {
   "cell_type": "code",
   "execution_count": 9,
   "source": [
    "df_user.columns"
   ],
   "outputs": [
    {
     "output_type": "execute_result",
     "data": {
      "text/plain": [
       "Index(['education', 'ethnicity', 'gender', 'income', 'joined', 'party',\n",
       "       'political_ideology', 'relationship', 'religious_ideology', 'name'],\n",
       "      dtype='object')"
      ]
     },
     "metadata": {},
     "execution_count": 9
    }
   ],
   "metadata": {}
  },
  {
   "cell_type": "code",
   "execution_count": 46,
   "source": [
    "user_feature_list = df_user.columns.tolist()"
   ],
   "outputs": [
    {
     "output_type": "execute_result",
     "data": {
      "text/plain": [
       "['education',\n",
       " 'ethnicity',\n",
       " 'gender',\n",
       " 'friends',\n",
       " 'income',\n",
       " 'joined',\n",
       " 'party',\n",
       " 'political_ideology',\n",
       " 'relationship',\n",
       " 'religious_ideology',\n",
       " 'name']"
      ]
     },
     "metadata": {},
     "execution_count": 46
    }
   ],
   "metadata": {}
  },
  {
   "cell_type": "code",
   "execution_count": 49,
   "source": [
    "df_test.columns"
   ],
   "outputs": [
    {
     "output_type": "execute_result",
     "data": {
      "text/plain": [
       "Index(['id', 'category', 'title', 'rounds', 'date', 'pro_debater',\n",
       "       'con_debater', 'voters', 'winner', 'Pro_education', 'Pro_ethnicity',\n",
       "       'Pro_gender', 'Pro_friends', 'Pro_income', 'Pro_joined', 'Pro_party',\n",
       "       'Pro_political_ideology', 'Pro_relationship', 'Pro_religious_ideology',\n",
       "       'Con_education', 'Con_ethnicity', 'Con_gender', 'Con_friends',\n",
       "       'Con_income', 'Con_joined', 'Con_party', 'Con_political_ideology',\n",
       "       'Con_relationship', 'Con_religious_ideology'],\n",
       "      dtype='object')"
      ]
     },
     "metadata": {},
     "execution_count": 49
    }
   ],
   "metadata": {}
  },
  {
   "cell_type": "code",
   "execution_count": 53,
   "source": [
    "df_user['education'].unique().tolist()"
   ],
   "outputs": [
    {
     "output_type": "execute_result",
     "data": {
      "text/plain": [
       "['Not Saying',\n",
       " 'High School',\n",
       " 'Some College',\n",
       " 'Bachelors Degree',\n",
       " 'Graduate Degree',\n",
       " 'Post Doctoral',\n",
       " 'Other',\n",
       " 'Associates Degree']"
      ]
     },
     "metadata": {},
     "execution_count": 53
    }
   ],
   "metadata": {}
  },
  {
   "cell_type": "code",
   "execution_count": 58,
   "source": [
    "for feature in user_feature_list:\r\n",
    "    for df in [df_test, df_train]:\r\n",
    "        # print(df[['Pro_'+feature, 'Con_'+feature]])\r\n",
    "        all_cate = df_user[feature].unique().tolist()\r\n",
    "        pd.get_dummies(df['Pro_'+feature].astype(CategoricalDtype(all_cate))).values.shape\r\n",
    "        break\r\n",
    "    break\r\n"
   ],
   "outputs": [
    {
     "output_type": "stream",
     "name": "stdout",
     "text": [
      "(399, 8)\n"
     ]
    }
   ],
   "metadata": {}
  },
  {
   "cell_type": "code",
   "execution_count": null,
   "source": [
    "\r\n",
    "update_text(df_train, df_test)\r\n",
    "update_ngrams(df_train, df_test)\r\n",
    "update_lexicon(df_train, df_test, r'lexica/')\r\n",
    "upadate_linguistic(df_train, df_test)\r\n",
    "update_user(df_train, df_test, r'data/users.json')"
   ],
   "outputs": [],
   "metadata": {}
  },
  {
   "cell_type": "code",
   "execution_count": null,
   "source": [
    "df_train.columns"
   ],
   "outputs": [],
   "metadata": {}
  },
  {
   "cell_type": "code",
   "execution_count": null,
   "source": [
    "x_train, x_test = get_features(df_train, df_test, model='Ling')"
   ],
   "outputs": [],
   "metadata": {}
  },
  {
   "cell_type": "code",
   "execution_count": null,
   "source": [
    "x_test"
   ],
   "outputs": [],
   "metadata": {}
  },
  {
   "cell_type": "code",
   "execution_count": null,
   "source": [
    "x_train, x_test = coo_matrix(np.zeros((df_train.shape[0], 1))), coo_matrix(np.zeros((df_test.shape[0], 1)))"
   ],
   "outputs": [],
   "metadata": {}
  },
  {
   "cell_type": "code",
   "execution_count": null,
   "source": [
    "user_feature_list = ['education']"
   ],
   "outputs": [],
   "metadata": {}
  },
  {
   "cell_type": "code",
   "execution_count": null,
   "source": [
    "user_feature_list = ['education']\r\n",
    "for user_feature in user_feature_list:\r\n",
    "        feature_vectorizer = CountVectorizer(token_pattern=\",\")\r\n",
    "        feature_vectorizer.fit([ user[user_feature] for _, user in users.items()])\r\n",
    "        for df in [df_train, df_test]:\r\n",
    "            Pro_feature = feature_vectorizer.transform([users[person][user_feature] for person in df[\"pro_debater\"].tolist()])\r\n",
    "            Con_feature = feature_vectorizer.transform([users[person][user_feature] for person in df[\"con_debater\"].tolist()])\r\n",
    "            break\r\n",
    "            # df['Pro_'+user_feature] = [Pro_feature[i] for i in range(Pro_feature.shape[0])]\r\n",
    "            # df['Con_'+user_feature] = [Con_feature[i] for i in range(Con_feature.shape[0])]"
   ],
   "outputs": [],
   "metadata": {}
  },
  {
   "cell_type": "code",
   "execution_count": null,
   "source": [
    "# df['Pro_'+user_feature] = [Pro_feature[i] for i in range(Pro_feature.shape[0])]\r\n",
    "feature_vectorizer.vocabulary_"
   ],
   "outputs": [],
   "metadata": {}
  },
  {
   "cell_type": "code",
   "execution_count": null,
   "source": [
    "Pro_feature[0].toarray()"
   ],
   "outputs": [],
   "metadata": {}
  },
  {
   "cell_type": "code",
   "execution_count": null,
   "source": [
    "[users[person][user_feature] for person in df[\"pro_debater\"].tolist()][0]"
   ],
   "outputs": [],
   "metadata": {}
  },
  {
   "cell_type": "code",
   "execution_count": null,
   "source": [
    "enc = LabelEncoder()\r\n",
    "enc.fit( [ user[user_feature] for _, user in users.items()] )"
   ],
   "outputs": [],
   "metadata": {}
  },
  {
   "cell_type": "code",
   "execution_count": null,
   "source": [
    "a = enc.transform([users[person][user_feature] for person in df[\"pro_debater\"].tolist()])"
   ],
   "outputs": [],
   "metadata": {}
  },
  {
   "cell_type": "code",
   "execution_count": null,
   "source": [
    "enc.classes_"
   ],
   "outputs": [],
   "metadata": {}
  },
  {
   "cell_type": "code",
   "execution_count": null,
   "source": [
    "enc = OneHotEncoder()\r\n",
    "enc.fit( [[ user[user_feature] for _, user in users.items()]])"
   ],
   "outputs": [],
   "metadata": {}
  },
  {
   "cell_type": "code",
   "execution_count": null,
   "source": [
    "enc.categories_"
   ],
   "outputs": [],
   "metadata": {}
  },
  {
   "cell_type": "code",
   "execution_count": null,
   "source": [
    "\r\n",
    "df_train, df_test = get_dataframe(r'data/train.jsonl', r'data/val.jsonl')"
   ],
   "outputs": [],
   "metadata": {}
  },
  {
   "cell_type": "code",
   "execution_count": null,
   "source": [
    "pd.get_dummies(df_test.winner, prefix='winner')"
   ],
   "outputs": [],
   "metadata": {}
  },
  {
   "cell_type": "code",
   "execution_count": null,
   "source": [
    "df[\"country\"] = train_df[\"country\"].astype(CategoricalDtype([\"australia\",\"germany\",\"korea\",\"russia\",\"japan\"]))\r\n",
    "\r\n",
    "# now call .get_dummies() as usual\r\n",
    "pd.get_dummies(df[\"country\"],prefix='country')"
   ],
   "outputs": [],
   "metadata": {}
  }
 ],
 "metadata": {
  "kernelspec": {
   "name": "python3",
   "display_name": "Python 3.6.13 64-bit ('NLP-hw1': conda)"
  },
  "language_info": {
   "codemirror_mode": {
    "name": "ipython",
    "version": 3
   },
   "file_extension": ".py",
   "mimetype": "text/x-python",
   "name": "python",
   "nbconvert_exporter": "python",
   "pygments_lexer": "ipython3",
   "version": "3.6.13"
  },
  "interpreter": {
   "hash": "71e2e5b76bcbb14e570851f735b138803c85a1bc8fc18edcb67e91ecf28dd39d"
  }
 },
 "nbformat": 4,
 "nbformat_minor": 5
}