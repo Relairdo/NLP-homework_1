{
 "cells": [
  {
   "cell_type": "code",
   "execution_count": null,
   "source": [
    "import argparse\r\n",
    "import pandas as pd\r\n",
    "import numpy as np\r\n",
    "import time\r\n",
    "import os\r\n",
    "import matplotlib.pyplot as plt\r\n",
    "from scipy.sparse.construct import vstack\r\n",
    "from features import get_dataframe, update_text, update_ngrams, update_lexicon, upadate_linguistic, update_user, get_features, get_lable\r\n",
    "from sklearn.linear_model import LogisticRegression\r\n",
    "from sklearn.metrics import classification_report, accuracy_score, balanced_accuracy_score, plot_confusion_matrix\r\n",
    "from sklearn.model_selection import cross_val_score"
   ],
   "outputs": [],
   "metadata": {}
  },
  {
   "cell_type": "code",
   "execution_count": 2,
   "source": [
    "parser = argparse.ArgumentParser()\r\n",
    "parser.add_argument('--train', dest='train', required=False, default='data/train.jsonl',\r\n",
    "                    help='Full path to the training file')\r\n",
    "parser.add_argument('--test', dest='test', required=False, default='data/val.jsonl',\r\n",
    "                    help='Full path to the evaluation file')\r\n",
    "parser.add_argument('--user_data', dest='user_data', required=False, default='data/users.json',\r\n",
    "                    help='Full path to the user data file')\r\n",
    "parser.add_argument('--model', dest='model', required=False, default='Ngram+Lex+Ling+User',\r\n",
    "                    choices=[\"Ngram\", \"Ngram+Lex\", \"Ngram+Lex+Ling\", \"Ngram+Lex+Ling+User\"],\r\n",
    "                    help='The name of the model to train and evaluate.')\r\n",
    "parser.add_argument('--lexicon_path', dest='lexicon_path', required=False, default='lexica/',\r\n",
    "                    help='The full path to the directory containing the lexica.'\r\n",
    "                            ' The last folder of this path should be \"lexica\".')\r\n",
    "parser.add_argument('--outfile', dest='outfile', required=False, default='out.txt',\r\n",
    "                    help='Full path to the file we will write the model predictions')\r\n",
    "                    \r\n",
    "args = parser.parse_args(\"\")"
   ],
   "outputs": [],
   "metadata": {}
  },
  {
   "cell_type": "code",
   "execution_count": 3,
   "source": [
    "df_train_loc = os.path.join('df_train.pkl')\r\n",
    "df_test_loc = os.path.join('df_test.pkl')\r\n",
    "df_user_loc = os.path.join('df_user.pkl')\r\n",
    "\r\n",
    "\r\n",
    "\r\n",
    "if os.path.isfile(df_train_loc) and os.path.isfile(df_test_loc):\r\n",
    "    df_train = pd.read_pickle(df_train_loc)\r\n",
    "    df_test = pd.read_pickle(df_test_loc)\r\n",
    "    df_user = pd.read_pickle(df_user_loc)\r\n",
    "\r\n",
    "else:\r\n",
    "\r\n",
    "    start = time.time()\r\n",
    "\r\n",
    "    df_train, df_test = get_dataframe(args.train, args.test)\r\n",
    "    update_text(df_train, df_test)\r\n",
    "    update_ngrams(df_train, df_test, feature_number=1000)\r\n",
    "    update_lexicon(df_train, df_test, args.lexicon_path)\r\n",
    "    upadate_linguistic(df_train, df_test)\r\n",
    "    df_train, df_test, df_user = update_user(df_train, df_test, args.user_data)\r\n",
    "\r\n",
    "    end = time.time()\r\n",
    "    print(\"Data Preprocessiong Cost:\", round(end - start),'s.')\r\n",
    "\r\n",
    "    df_train.to_pickle(df_train_loc)\r\n",
    "    df_test.to_pickle(df_test_loc)\r\n",
    "    df_user.to_pickle(df_user_loc)\r\n"
   ],
   "outputs": [
    {
     "output_type": "stream",
     "name": "stderr",
     "text": [
      "c:\\Users\\fff32\\Desktop\\Natural Language Processing\\Homework_1\\code\\features.py:67: ParserWarning: Falling back to the 'python' engine because the 'c' engine does not support regex separators (separators > 1 char and different from '\\s+' are interpreted as regex); you can avoid this warning by specifying engine='python'.\n",
      "  df_CL = pd.read_csv(CL_csv, sep=\"_|,\", names=['word', 'part', 'sentiment'])\n"
     ]
    },
    {
     "output_type": "stream",
     "name": "stdout",
     "text": [
      "Data Preprocessiong Cost: 62 s.\n"
     ]
    }
   ],
   "metadata": {}
  },
  {
   "cell_type": "code",
   "execution_count": 4,
   "source": [
    "import itertools\r\n",
    "def get_all_combinations(l : list, choose2=False) -> list:\r\n",
    "    ll = []\r\n",
    "    for L in range(0, len(l)+1):\r\n",
    "        for subset in itertools.combinations(l, L):\r\n",
    "            if choose2:\r\n",
    "                if len(list(subset)) == 2:\r\n",
    "                    ll.append(list(subset))\r\n",
    "            else:\r\n",
    "                ll.append(list(subset))\r\n",
    "    return ll\r\n",
    "\r\n",
    "lexicons_list = [\"CL\", \"NVL\"]\r\n",
    "ling_feature_list = ['Length', 'R2O', 'Personal_pronouns', 'Modals', 'Links', 'Questions']\r\n",
    "user_feature_list = ['education','ethnicity', 'gender', 'income', 'joined', 'party', 'political_ideology', 'relationship', 'religious_ideology']\r\n",
    "all_feature_list = list(lexicons_list+ling_feature_list+user_feature_list)"
   ],
   "outputs": [],
   "metadata": {}
  },
  {
   "cell_type": "markdown",
   "source": [
    "# Proformance test"
   ],
   "metadata": {}
  },
  {
   "cell_type": "code",
   "execution_count": 5,
   "source": [
    "for md in [\"Ngram\", \"Ngram+Lex\", \"Ngram+Lex+Ling\", \"Ngram+Lex+Ling+User\"]:\r\n",
    "    print('====================', md,'====================')\r\n",
    "    x_train, x_test = get_features(df_train, df_test, df_user, model = md)\r\n",
    "    y_train, y_test = get_lable(df_train, df_test)\r\n",
    "    print(\"Total Featurs:\", x_train.shape[1])\r\n",
    "    clf = LogisticRegression(solver='liblinear')\r\n",
    "    clf.fit(x_train, y_train)\r\n",
    "    y_predicted = clf.predict(x_test)\r\n",
    "    print(\"Accuracy score: \",accuracy_score(y_test, y_predicted))\r\n",
    "    print(\"Accuracy score on Train: \",accuracy_score(y_train, clf.predict(x_train)))\r\n",
    "    plot_confusion_matrix(clf, x_test, y_test)\r\n",
    "    print(classification_report(y_test, y_predicted, target_names=['Con','Pro']))"
   ],
   "outputs": [
    {
     "output_type": "stream",
     "name": "stdout",
     "text": [
      "==================== Ngram ====================\n",
      "Total Featurs: 2000\n",
      "Accuracy score:  0.7443609022556391\n",
      "Accuracy score on Train:  0.8944723618090452\n",
      "              precision    recall  f1-score   support\n",
      "\n",
      "         Con       0.72      0.85      0.78       211\n",
      "         Pro       0.79      0.63      0.70       188\n",
      "\n",
      "    accuracy                           0.74       399\n",
      "   macro avg       0.75      0.74      0.74       399\n",
      "weighted avg       0.75      0.74      0.74       399\n",
      "\n",
      "==================== Ngram+Lex ====================\n",
      "Lexicon used: Connotation NRC-VAD \n",
      "Total Featurs: 2012\n",
      "Accuracy score:  0.7493734335839599\n",
      "Accuracy score on Train:  0.871859296482412\n",
      "              precision    recall  f1-score   support\n",
      "\n",
      "         Con       0.72      0.86      0.78       211\n",
      "         Pro       0.80      0.62      0.70       188\n",
      "\n",
      "    accuracy                           0.75       399\n",
      "   macro avg       0.76      0.74      0.74       399\n",
      "weighted avg       0.76      0.75      0.74       399\n",
      "\n",
      "==================== Ngram+Lex+Ling ====================\n",
      "Lexicon used: Connotation NRC-VAD \n",
      "Linguistic features: Length R2O Personal_pronouns Modals Links Questions \n",
      "Total Featurs: 2024\n"
     ]
    },
    {
     "output_type": "stream",
     "name": "stderr",
     "text": [
      "C:\\Users\\fff32\\miniconda3\\envs\\NLP-hw1\\lib\\site-packages\\sklearn\\svm\\_base.py:986: ConvergenceWarning: Liblinear failed to converge, increase the number of iterations.\n",
      "  \"the number of iterations.\", ConvergenceWarning)\n"
     ]
    },
    {
     "output_type": "stream",
     "name": "stdout",
     "text": [
      "Accuracy score:  0.7443609022556391\n",
      "Accuracy score on Train:  0.7939698492462312\n",
      "              precision    recall  f1-score   support\n",
      "\n",
      "         Con       0.71      0.88      0.78       211\n",
      "         Pro       0.81      0.60      0.69       188\n",
      "\n",
      "    accuracy                           0.74       399\n",
      "   macro avg       0.76      0.74      0.74       399\n",
      "weighted avg       0.76      0.74      0.74       399\n",
      "\n",
      "==================== Ngram+Lex+Ling+User ====================\n",
      "Lexicon used: Connotation NRC-VAD \n",
      "Linguistic features: Length R2O Personal_pronouns Modals Links Questions \n",
      "User features: education ethnicity gender income joined party political_ideology relationship religious_ideology \n",
      "Total Featurs: 2460\n",
      "Accuracy score:  0.7994987468671679\n",
      "Accuracy score on Train:  0.8743718592964824\n",
      "              precision    recall  f1-score   support\n",
      "\n",
      "         Con       0.77      0.89      0.82       211\n",
      "         Pro       0.85      0.70      0.77       188\n",
      "\n",
      "    accuracy                           0.80       399\n",
      "   macro avg       0.81      0.79      0.80       399\n",
      "weighted avg       0.81      0.80      0.80       399\n",
      "\n"
     ]
    },
    {
     "output_type": "display_data",
     "data": {
      "image/png": "[encoded data removed]",
      "text/plain": [
       "<Figure size 432x288 with 2 Axes>"
      ]
     },
     "metadata": {
      "needs_background": "light"
     }
    },
    {
     "output_type": "display_data",
     "data": {
      "image/png": "[encoded data removed]",
      "text/plain": [
       "<Figure size 432x288 with 2 Axes>"
      ]
     },
     "metadata": {
      "needs_background": "light"
     }
    },
    {
     "output_type": "display_data",
     "data": {
      "image/png": "[encoded data removed]",
      "text/plain": [
       "<Figure size 432x288 with 2 Axes>"
      ]
     },
     "metadata": {
      "needs_background": "light"
     }
    },
    {
     "output_type": "display_data",
     "data": {
      "image/png": "[encoded data removed]",
      "text/plain": [
       "<Figure size 432x288 with 2 Axes>"
      ]
     },
     "metadata": {
      "needs_background": "light"
     }
    }
   ],
   "metadata": {}
  },
  {
   "cell_type": "markdown",
   "source": [
    "# Find Best feature_number"
   ],
   "metadata": {}
  },
  {
   "cell_type": "code",
   "execution_count": null,
   "source": [
    "column_names = [\"Max Feature\",\"5F-CV Mean\", \"scores\"]\r\n",
    "df_record = pd.DataFrame(columns = column_names)\r\n",
    "for fn in range(9600, 9700, 50):\r\n",
    "    print(fn)\r\n",
    "    df_train = df_train.drop(columns=[\"Pro_ngram\", \"Con_ngram\"])\r\n",
    "    df_test = df_test.drop(columns=[\"Pro_ngram\", \"Con_ngram\"])\r\n",
    "    update_ngrams(df_train, df_test, feature_number=fn)\r\n",
    "    x_train, x_test = get_features(df_train, df_test, model = \"Ngram\")\r\n",
    "    y_train, y_test = get_lable(df_train, df_test)\r\n",
    "    x = vstack([x_train,x_test])\r\n",
    "    y = y_train + y_test\r\n",
    "    clf = LogisticRegression(solver='liblinear')\r\n",
    "    scores = cross_val_score(clf, x, y, cv=5 ,scoring='accuracy')\r\n",
    "    mean_score = np.mean(scores)\r\n",
    "    record = {\"Max Feature\":fn, \"5F-CV Mean\":mean_score, \"scores\":scores}\r\n",
    "    df_record = df_record.append(record,ignore_index=True)\r\n",
    "\r\n",
    "df_record.to_csv(os.path.join('log/Ngram_FN_4.csv'))"
   ],
   "outputs": [],
   "metadata": {}
  },
  {
   "cell_type": "markdown",
   "source": [
    "# Cross Valid All combination"
   ],
   "metadata": {}
  },
  {
   "cell_type": "code",
   "execution_count": null,
   "source": [
    "column_names = [\"Lex\",\"Ling\",\"User\",\"5FCV Mean\", \"Scores\"]\r\n",
    "df_record = pd.DataFrame(columns = column_names)\r\n",
    "for lex in get_all_combinations(lexicons_list):\r\n",
    "    for ling in get_all_combinations(ling_feature_list, choose2=True):\r\n",
    "        for user in get_all_combinations(user_feature_list, choose2=True):\r\n",
    "            x_train, x_test = get_features(df_train, df_test, model = args.model,lex_list=lex, ling_list=ling, user_list=user)\r\n",
    "            y_train, y_test = get_lable(df_train, df_test)\r\n",
    "            x = vstack([x_train,x_test])\r\n",
    "            y = y_train + y_test\r\n",
    "            clf = LogisticRegression(solver='liblinear', max_iter=500)\r\n",
    "            scores = cross_val_score(clf, x, y, cv=5 ,scoring='accuracy')\r\n",
    "            mean_score = np.mean(scores)\r\n",
    "            record = {\"Lex\":lex,\"Ling\":ling,\"User\":user,\"5FCV Mean\":mean_score, \"Scores\":scores}\r\n",
    "            df_record = df_record.append(record,ignore_index=True)\r\n",
    "\r\n",
    "df_record.to_csv(os.path.join('Traversal.csv'))"
   ],
   "outputs": [],
   "metadata": {}
  },
  {
   "cell_type": "markdown",
   "source": [
    "# Ablation"
   ],
   "metadata": {}
  },
  {
   "cell_type": "code",
   "execution_count": null,
   "source": [
    "column_names = [\"target_feature\",\"mean_score\", \"scores\"]\r\n",
    "df_record = pd.DataFrame(columns = column_names)\r\n",
    "\r\n",
    "for feature in all_feature_list:\r\n",
    "\r\n",
    "    ling_feature_list = ['Length', 'R2O', 'Personal_pronouns', 'Modals', 'Links', 'Questions']\r\n",
    "    user_feature_list = ['education','ethnicity', 'gender', 'income', 'joined', 'party', 'political_ideology', 'relationship', 'religious_ideology']\r\n",
    "    lexicons_list = [\"CL\", \"NVL\"]\r\n",
    "        \r\n",
    "    if feature in ling_feature_list:\r\n",
    "        ling_feature_list.remove(feature)\r\n",
    "    if feature in user_feature_list:\r\n",
    "        user_feature_list.remove(feature)\r\n",
    "    if feature in lexicons_list:\r\n",
    "        lexicons_list.remove(feature)\r\n",
    "\r\n",
    "    x_train, x_test = get_features(df_train, df_test, model = args.model,lex_list=lexicons_list, ling_list=ling_feature_list, user_list=user_feature_list)\r\n",
    "    y_train, y_test = get_lable(df_train, df_test)\r\n",
    "\r\n",
    "    x = vstack([x_train,x_test])\r\n",
    "    y = y_train + y_test\r\n",
    "    clf = LogisticRegression(solver='liblinear', max_iter=500)\r\n",
    "    start = time.time()\r\n",
    "    scores = cross_val_score(clf, x, y, cv=5 ,scoring='accuracy')\r\n",
    "    end = time.time()\r\n",
    "    mean_score = np.mean(scores)\r\n",
    "    record = {\"target_feature\":feature, \"mean_score\":mean_score, \"scores\":scores}\r\n",
    "    df_record = df_record.append(record,ignore_index=True)\r\n",
    "\r\n",
    "\r\n",
    "df_record.to_csv(os.path.join('Ablation.csv'))"
   ],
   "outputs": [],
   "metadata": {}
  },
  {
   "cell_type": "markdown",
   "source": [
    "# Ablation R vs O"
   ],
   "metadata": {}
  },
  {
   "cell_type": "code",
   "execution_count": null,
   "source": [
    "df_train_r = df_train[df_train['category']=='Religion']\r\n",
    "df_train_nr = df_train[df_train['category']!='Religion']\r\n",
    "df_test_r = df_test[df_test['category']=='Religion']\r\n",
    "df_test_nr = df_test[df_test['category']!='Religion']\r\n",
    "\r\n",
    "column_names = [\"Religion\",\"Ablation Feature\",\"5FCV Mean\", \"Scores\", \"Norm\"]\r\n",
    "df_record = pd.DataFrame(columns = column_names)\r\n",
    "\r\n",
    "\r\n",
    "for feature in all_feature_list:\r\n",
    "\r\n",
    "    ling_feature_list = ['Length', 'R2O', 'Personal_pronouns', 'Modals', 'Links', 'Questions']\r\n",
    "    user_feature_list = ['education','ethnicity', 'gender', 'income', 'joined', 'party', 'political_ideology', 'relationship', 'religious_ideology']\r\n",
    "    lexicons_list = [\"CL\", \"NVL\"]\r\n",
    "        \r\n",
    "    if feature in ling_feature_list:\r\n",
    "        ling_feature_list.remove(feature)\r\n",
    "    if feature in user_feature_list:\r\n",
    "        user_feature_list.remove(feature)\r\n",
    "    if feature in lexicons_list:\r\n",
    "        lexicons_list.remove(feature)\r\n",
    "\r\n",
    "    for religion in [True, False]:\r\n",
    "\r\n",
    "        if religion:\r\n",
    "            x_train, x_test = get_features(df_train_r, df_test_r, norm=None, model = args.model,lex_list=lexicons_list, ling_list=ling_feature_list, user_list=user_feature_list)\r\n",
    "            y_train, y_test = get_lable(df_train_r, df_test_r)\r\n",
    "        else:\r\n",
    "            x_train, x_test = get_features(df_train_nr, df_test_nr, norm=None, model = args.model,lex_list=lexicons_list, ling_list=ling_feature_list, user_list=user_feature_list)\r\n",
    "            y_train, y_test = get_lable(df_train_nr, df_test_nr)\r\n",
    "\r\n",
    "        x = vstack([x_train,x_test])\r\n",
    "        y = y_train + y_test\r\n",
    "        clf = LogisticRegression(solver='liblinear', max_iter=500)\r\n",
    "        start = time.time()\r\n",
    "        scores = cross_val_score(clf, x, y, cv=5 ,scoring='accuracy')\r\n",
    "        end = time.time()\r\n",
    "        mean_score = np.mean(scores)\r\n",
    "        record = {\"Religion\":religion, \"Ablation Feature\":feature ,\"5FCV Mean\":mean_score, \"Scores\":scores, \"Norm\":norm}\r\n",
    "        df_record = df_record.append(record,ignore_index=True)\r\n",
    "\r\n",
    "\r\n",
    "df_record.to_csv(os.path.join('Ablation_ReligionVsOther_Normalize.csv'))"
   ],
   "outputs": [],
   "metadata": {}
  },
  {
   "cell_type": "code",
   "execution_count": null,
   "source": [],
   "outputs": [],
   "metadata": {}
  }
 ],
 "metadata": {
  "orig_nbformat": 4,
  "language_info": {
   "name": "python",
   "version": "3.6.13",
   "mimetype": "text/x-python",
   "codemirror_mode": {
    "name": "ipython",
    "version": 3
   },
   "pygments_lexer": "ipython3",
   "nbconvert_exporter": "python",
   "file_extension": ".py"
  },
  "kernelspec": {
   "name": "python3",
   "display_name": "Python 3.6.13 64-bit ('NLP-hw1': conda)"
  },
  "interpreter": {
   "hash": "71e2e5b76bcbb14e570851f735b138803c85a1bc8fc18edcb67e91ecf28dd39d"
  }
 },
 "nbformat": 4,
 "nbformat_minor": 2
}